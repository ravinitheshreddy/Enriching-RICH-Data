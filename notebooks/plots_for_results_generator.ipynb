{
 "cells": [
  {
   "cell_type": "markdown",
   "id": "27b54fe7-2e6a-4bcd-9b2c-93aba40968af",
   "metadata": {
    "tags": []
   },
   "source": [
    "# Report of the merge results\n",
    "\n",
    "This notebook is used to generate the plots that would aid in analysing the results of the tag generation. The plots that are generated in this notebook are\n",
    "\n",
    "1. Distribution of frequency of tokens vs number of tokens \n",
    "2. Distribution of number of tokens with and without a correct spelling\n",
    "3. Comparison plots of _1_ and _2_, before and after merge.\n",
    "4. Distribution of similarity scores at each round (and iteration) in merging the tokens.\n",
    "\n",
    "## Imports"
   ]
  },
  {
   "cell_type": "code",
   "execution_count": null,
   "id": "52f7f3ed-c435-4918-a2b8-40fae56532fb",
   "metadata": {},
   "outputs": [],
   "source": [
    "import json\n",
    "import pickle\n",
    "\n",
    "import numpy as np\n",
    "import pandas as pd\n",
    "\n",
    "import seaborn as sns, matplotlib.pyplot as plt"
   ]
  },
  {
   "cell_type": "markdown",
   "id": "db4f00bb-2c0e-4ef8-bcea-d020b0f087d9",
   "metadata": {},
   "source": [
    "## Correctly spelled words\n",
    "\n",
    "The list of correctly spelled words is stored as pickle file at `data/intermediate_steps/words_with_correct_spellings.pickle`. The pickle file is read to use the words set."
   ]
  },
  {
   "cell_type": "code",
   "execution_count": null,
   "id": "f7040388-e9c5-4555-8749-00aa14ff0e21",
   "metadata": {},
   "outputs": [],
   "source": [
    "with open(\n",
    "    \"./../data/intermediate_steps/words_with_correct_spellings.pickle\", \"rb\"\n",
    ") as outfile:\n",
    "    words_with_correct_spellings = pickle.load(outfile)"
   ]
  },
  {
   "cell_type": "markdown",
   "id": "a6e7a80a-217b-498d-ab8a-c532cab85bd5",
   "metadata": {},
   "source": [
    "## Before merge\n",
    "\n",
    "At this stage, the profession strings were cleaned for most of the special characters, mistakenly split tokens are merged and tokens are generated after refiltering with dots and normalising and de-normalising the tokens not present in the dictionary.\n",
    "\n",
    "### Read the unique tokens before merging"
   ]
  },
  {
   "cell_type": "code",
   "execution_count": null,
   "id": "f257dd58-1da1-4a02-8303-4126bcd8373d",
   "metadata": {},
   "outputs": [],
   "source": [
    "with open(\"./../data/intermediate_steps/unique_denormalised_tokens.json\", encoding=\"utf8\") as f:\n",
    "    unique_tokens_before_merge_with_count = json.load(f)\n",
    "    \n",
    "unique_tokens_before_merge = unique_tokens_before_merge_with_count.keys()\n",
    "unique_tokens_before_merge_in_dict = [uniq_tok for uniq_tok in unique_tokens_before_merge if uniq_tok in words_with_correct_spellings]\n",
    "num_of_unique_tokens_before_merge = len(unique_tokens_before_merge)\n",
    "num_of_unique_tokens_before_merge_in_dict = len(unique_tokens_before_merge_in_dict)\n",
    "percent_in_dict = round(((num_of_unique_tokens_before_merge_in_dict/num_of_unique_tokens_before_merge)*100),2)\n",
    "\n",
    "print(\"Number of unique tokens that represent the professions before the merginig are {}, \\nand {} out of them are in the dictionary ({}%).\".format(\n",
    "    num_of_unique_tokens_before_merge, num_of_unique_tokens_before_merge_in_dict, percent_in_dict))"
   ]
  },
  {
   "cell_type": "markdown",
   "id": "7154cb86-c58a-49f3-a3ba-6abe01d7c106",
   "metadata": {},
   "source": [
    "### Distribution of Frequency of Token Frequency"
   ]
  },
  {
   "cell_type": "code",
   "execution_count": null,
   "id": "4b06fbc4-6320-492a-8e83-ba3bd9eb0866",
   "metadata": {},
   "outputs": [],
   "source": [
    "freq_of_token_freq_before_merge = {}\n",
    "\n",
    "for token, token_prop in unique_tokens_before_merge_with_count.items():\n",
    "    count = token_prop[\"count\"]\n",
    "    if not count in freq_of_token_freq_before_merge:\n",
    "        freq_of_token_freq_before_merge[count] = {\"no_of_tokens\": 0, \"in_dictionary\": 0, \"not_in_dictionary\":0}\n",
    "    freq_of_token_freq_before_merge[count][\"no_of_tokens\"] += 1\n",
    "    if token in words_with_correct_spellings:\n",
    "        freq_of_token_freq_before_merge[count][\"in_dictionary\"] += 1\n",
    "    else:\n",
    "        freq_of_token_freq_before_merge[count][\"not_in_dictionary\"] += 1\n",
    "    \n",
    "freq_of_token_freq_before_merge_df = pd.DataFrame.from_dict(freq_of_token_freq_before_merge,\n",
    "                                                  orient='index'\n",
    "                                                 ).sort_values(by=['no_of_tokens'], ascending=False\n",
    "                                                              ).rename_axis('token_frequency').reset_index()"
   ]
  },
  {
   "cell_type": "code",
   "execution_count": null,
   "id": "aa0046f1-0003-405b-8769-4627c5acb58d",
   "metadata": {},
   "outputs": [],
   "source": [
    "freq_of_token_freq_before_merge_df"
   ]
  },
  {
   "cell_type": "code",
   "execution_count": null,
   "id": "f699aa90-f2ac-48dc-bf3c-eec81153098a",
   "metadata": {},
   "outputs": [],
   "source": [
    "fig, ax = plt.subplots()\n",
    "# the size of A4 paper\n",
    "fig.set_size_inches(11.7, 8.27)\n",
    "count_freq_plot_before_merge = sns.scatterplot(x=\"token_frequency\", y=\"no_of_tokens\",\n",
    "                                            data=freq_of_token_freq_before_merge_df, ax=ax)\n",
    "count_freq_plot_before_merge.set(yscale='log')\n",
    "count_freq_plot_before_merge.set(xscale='log')\n",
    "count_freq_plot_before_merge.set(title=\"Distribution of token frequency before merge\")\n",
    "count_freq_plot_before_merge.set(xlabel=\"Frequency of Tokens (log scale)\")\n",
    "count_freq_plot_before_merge.set(ylabel=\"Number of Tokens (log scale)\")\n",
    "ax.grid()"
   ]
  },
  {
   "cell_type": "markdown",
   "id": "efe847b6-1f60-489b-b860-392ebbc2f563",
   "metadata": {},
   "source": [
    "In the above plot (with both axes on log scale), the X axis is the frequency of a token in the dataset i.e. number of times it has appeared in the 4M lines. The Y axis is the count of tokens that have a given frequency on the X axis. From this plot, it can interpreted that nearly 50,000 (out of the 87,698) occur only once and the next highest number of tokens i.e. 10,000 of them occure only twice. The set of tokens that appear less than 6 times together compose 80% of the tokens and 89% of them are not in the dictionary. At the other end, only few tokens have very high frequency and they are also present in the dictionary. The tokens with low frequency and not in dictionary represent that they are wrongly spelt or they contain foreign words that are not in the french dictionary or they are abbrevated forms of longer words and few have an old spelling or the words is currently not in use. Our aim in normalising the tokens is to correct the spellings of these tokens and fill the abbrevated forms such that most of them are in the dictionary.\n",
    "\n",
    "### Distribution of Tokens in the list of correctly spelled words"
   ]
  },
  {
   "cell_type": "code",
   "execution_count": null,
   "id": "c71fc43d-e1ac-40e8-905d-b9e630ce696f",
   "metadata": {},
   "outputs": [],
   "source": [
    "fig, ax = plt.subplots()\n",
    "# the size of A4 paper\n",
    "fig.set_size_inches(11.7, 8.27)\n",
    "\n",
    "sns.lineplot(data=freq_of_token_freq_before_merge_df, x=\"token_frequency\", y=\"in_dictionary\", label='Has correct spelling', ax=ax)\n",
    "sns.lineplot(data=freq_of_token_freq_before_merge_df, x=\"token_frequency\", y=\"not_in_dictionary\", label='Not correctly Spelled', ax=ax)\n",
    "\n",
    "ax.set(yscale='log')\n",
    "ax.set(xscale='log')\n",
    "ax.set(title=\"Distribution of token spelling correctness before merge\")\n",
    "ax.set(xlabel=\"Frequency of Tokens (log scale)\")\n",
    "ax.set(ylabel=\"Number of Tokens (log scale)\")\n",
    "ax.grid()"
   ]
  },
  {
   "cell_type": "markdown",
   "id": "ca003e6e-08d5-499a-84de-4fa68df5ee26",
   "metadata": {},
   "source": [
    "## After creation of tags\n",
    "\n",
    "\n",
    "After merging and filling the full forms, the tokens are compared.\n",
    "\n",
    "\n",
    "### Merging tokens with 75% similarity\n",
    "\n",
    "#### Read the unique tokens after tag generation"
   ]
  },
  {
   "cell_type": "code",
   "execution_count": null,
   "id": "c82ff932-fcb1-47be-b952-62c6ab4d98a6",
   "metadata": {},
   "outputs": [],
   "source": [
    "with open(\"./../data/intermediate_steps/sim_score_75/cleaned_unique_tokens.json\", encoding=\"utf8\") as f:\n",
    "    unique_tokens_after_merge_sim75_with_count = json.load(f)\n",
    "    \n",
    "unique_tokens_after_merge_sim75 = unique_tokens_after_merge_sim75_with_count.keys()\n",
    "unique_tokens_after_merge_sim75_in_dict = [uniq_tok for uniq_tok in unique_tokens_after_merge_sim75 if uniq_tok in words_with_correct_spellings]\n",
    "num_of_unique_tokens_after_merge_sim75 = len(unique_tokens_after_merge_sim75)\n",
    "num_of_unique_tokens_after_merge_sim75_in_dict = len(unique_tokens_after_merge_sim75_in_dict)\n",
    "\n",
    "percent_in_dict = round(((num_of_unique_tokens_after_merge_sim75_in_dict/num_of_unique_tokens_after_merge_sim75)*100),2)\n",
    "\n",
    "print(\"Number of unique tokens that represent the professions after merginig with 75% similarity are {}, \\nand {} out of them are in the dictionary ({}%).\".format(\n",
    "    num_of_unique_tokens_after_merge_sim75, num_of_unique_tokens_after_merge_sim75_in_dict, percent_in_dict))"
   ]
  },
  {
   "cell_type": "markdown",
   "id": "a9b83073-003f-4dd0-898f-4abdc19de37d",
   "metadata": {},
   "source": [
    "### Distribution of Frequency of Token Frequency"
   ]
  },
  {
   "cell_type": "code",
   "execution_count": null,
   "id": "ea27c42a-8f5d-4f5b-a466-6c29e325db92",
   "metadata": {},
   "outputs": [],
   "source": [
    "freq_of_token_freq_after_merge_sim75 = {}\n",
    "\n",
    "for token, count in unique_tokens_after_merge_sim75_with_count.items():\n",
    "    if not count in freq_of_token_freq_after_merge_sim75:\n",
    "        freq_of_token_freq_after_merge_sim75[count] = {\"no_of_tokens\": 0, \"in_dictionary\": 0, \"not_in_dictionary\":0}\n",
    "    freq_of_token_freq_after_merge_sim75[count][\"no_of_tokens\"] += 1\n",
    "    if token in words_with_correct_spellings:\n",
    "        freq_of_token_freq_after_merge_sim75[count][\"in_dictionary\"] += 1\n",
    "    else:\n",
    "        freq_of_token_freq_after_merge_sim75[count][\"not_in_dictionary\"] += 1\n",
    "    \n",
    "freq_of_token_freq_after_merge_sim75_df = pd.DataFrame.from_dict(freq_of_token_freq_after_merge_sim75,\n",
    "                                                  orient='index'\n",
    "                                                 ).sort_values(by=['no_of_tokens'], ascending=False\n",
    "                                                              ).rename_axis('token_frequency').reset_index()"
   ]
  },
  {
   "cell_type": "code",
   "execution_count": null,
   "id": "fee97fe9-55d0-47b9-b728-4a8b99f2d04a",
   "metadata": {},
   "outputs": [],
   "source": [
    "freq_of_token_freq_after_merge_sim75_df"
   ]
  },
  {
   "cell_type": "code",
   "execution_count": null,
   "id": "db0f7571-f8f0-40fe-8e88-1c743c47fc8f",
   "metadata": {},
   "outputs": [],
   "source": [
    "fig, ax = plt.subplots()\n",
    "# the size of A4 paper\n",
    "fig.set_size_inches(11.7, 8.27)\n",
    "\n",
    "sns.scatterplot(data=freq_of_token_freq_before_merge_df, x=\"token_frequency\", y=\"no_of_tokens\", label='before_merge', ax=ax)\n",
    "sns.scatterplot(data=freq_of_token_freq_after_merge_sim75_df, x=\"token_frequency\", y=\"no_of_tokens\", label='after_merge_sim75', ax=ax)\n",
    "\n",
    "ax.set(yscale='log')\n",
    "ax.set(xscale='log')\n",
    "ax.set(title=\"Comparision of distribution of token frequency before and after merge with 75% similarity threshold\")\n",
    "ax.set(xlabel=\"Frequency of Tokens (log scale)\")\n",
    "ax.set(ylabel=\"Number of Tokens (log scale)\")\n",
    "ax.grid()"
   ]
  },
  {
   "cell_type": "code",
   "execution_count": null,
   "id": "2b88da9d-8322-444e-ac6e-776ec3066a81",
   "metadata": {},
   "outputs": [],
   "source": [
    "fig, ax = plt.subplots()\n",
    "# the size of A4 paper\n",
    "fig.set_size_inches(11.7, 8.27)\n",
    "\n",
    "sns.lineplot(data=freq_of_token_freq_after_merge_sim75_df, x=\"token_frequency\", y=\"in_dictionary\", label='Has correct spelling', ax=ax)\n",
    "sns.lineplot(data=freq_of_token_freq_after_merge_sim75_df, x=\"token_frequency\", y=\"not_in_dictionary\", label='Not correctly Spelled', ax=ax)\n",
    "\n",
    "ax.set(yscale='log')\n",
    "ax.set(xscale='log')\n",
    "ax.set(title=\"Distribution of token spelling correctness after merge with 75 similarity threshold\")\n",
    "ax.set(xlabel=\"Frequency of Tokens (log scale)\")\n",
    "ax.set(ylabel=\"Number of Tokens (log scale)\")\n",
    "ax.grid()"
   ]
  },
  {
   "cell_type": "code",
   "execution_count": null,
   "id": "df3c0772-5b8b-4439-ae6b-76d7caed2d08",
   "metadata": {},
   "outputs": [],
   "source": [
    "# sns.lineplot(data=freq_of_token_freq_before_merge_df, x=\"token_frequency\", y=\"in_dictionary\", label='before_merge', ax=ax)\n",
    "# sns.lineplot(data=freq_of_token_freq_after_merge_sim75_df, x=\"token_frequency\", y=\"not_in_dictionary\", label='after_merge_sim75', ax=ax)\n",
    "\n",
    "fig, ax = plt.subplots()\n",
    "# the size of A4 paper\n",
    "fig.set_size_inches(11.7, 8.27)\n",
    "\n",
    "sns.lineplot(data=freq_of_token_freq_before_merge_df, x=\"token_frequency\", y=\"in_dictionary\", label='Has correct spelling before merge', ax=ax)\n",
    "sns.lineplot(data=freq_of_token_freq_before_merge_df, x=\"token_frequency\", y=\"not_in_dictionary\", label='Not correctly Spelled before merge', ax=ax)\n",
    "\n",
    "sns.lineplot(data=freq_of_token_freq_after_merge_sim75_df, x=\"token_frequency\", y=\"in_dictionary\", label='Has correct spelling after merge (75)', ax=ax)\n",
    "sns.lineplot(data=freq_of_token_freq_after_merge_sim75_df, x=\"token_frequency\", y=\"not_in_dictionary\", label='Not correctly Spelled (75)', ax=ax)\n",
    "\n",
    "ax.set(yscale='log')\n",
    "ax.set(xscale='log')\n",
    "ax.set(title=\"Comparision of token spelling correctness before and after merge with 75 similarity threshold\")\n",
    "ax.set(xlabel=\"Frequency of Tokens (log scale)\")\n",
    "ax.set(ylabel=\"Number of Tokens (log scale)\")\n",
    "ax.grid()"
   ]
  },
  {
   "cell_type": "code",
   "execution_count": null,
   "id": "519bd3dd-2ee7-412e-aea8-5a7569f10cff",
   "metadata": {},
   "outputs": [],
   "source": [
    "fig, ax = plt.subplots()\n",
    "# the size of A4 paper\n",
    "fig.set_size_inches(11.7, 8.27)\n",
    "\n",
    "sns.lineplot(data=freq_of_token_freq_before_merge_df, x=\"token_frequency\", y=\"in_dictionary\", label='Has correct spelling before merge', ax=ax)\n",
    "# sns.lineplot(data=freq_of_token_freq_before_merge_df, x=\"token_frequency\", y=\"not_in_dictionary\", label='Not correctly Spelled before merge', ax=ax)\n",
    "\n",
    "sns.lineplot(data=freq_of_token_freq_after_merge_sim75_df, x=\"token_frequency\", y=\"in_dictionary\", label='Has correct spelling after merge (75)', ax=ax)\n",
    "# sns.lineplot(data=freq_of_token_freq_after_merge_sim75_df, x=\"token_frequency\", y=\"not_in_dictionary\", label='Not correctly Spelled (75)', ax=ax)\n",
    "\n",
    "ax.set(yscale='log')\n",
    "ax.set(xscale='log')\n",
    "ax.set(title=\"Comparision of correctly spelled tokens before and after merge with 75 similarity threshold\")\n",
    "ax.set(xlabel=\"Frequency of Tokens (log scale)\")\n",
    "ax.set(ylabel=\"Number of Tokens (log scale)\")\n",
    "ax.grid()"
   ]
  },
  {
   "cell_type": "code",
   "execution_count": null,
   "id": "7e3983ac-6566-4ddb-aace-b2db28f8169e",
   "metadata": {},
   "outputs": [],
   "source": [
    "fig, ax = plt.subplots()\n",
    "# the size of A4 paper\n",
    "fig.set_size_inches(11.7, 8.27)\n",
    "\n",
    "# sns.lineplot(data=freq_of_token_freq_before_merge_df, x=\"token_frequency\", y=\"in_dictionary\", label='Has correct spelling before merge', ax=ax)\n",
    "sns.lineplot(data=freq_of_token_freq_before_merge_df, x=\"token_frequency\", y=\"not_in_dictionary\", label='Not correctly Spelled before merge', ax=ax)\n",
    "\n",
    "# sns.lineplot(data=freq_of_token_freq_after_merge_sim75_df, x=\"token_frequency\", y=\"in_dictionary\", label='Has correct spelling after merge (75)', ax=ax)\n",
    "sns.lineplot(data=freq_of_token_freq_after_merge_sim75_df, x=\"token_frequency\", y=\"not_in_dictionary\", label='Not correctly Spelled (75)', ax=ax)\n",
    "\n",
    "ax.set(yscale='log')\n",
    "ax.set(xscale='log')\n",
    "ax.set(title=\"Comparision of wrongly spelled tokens before and after merge with 75 similarity threshold\")\n",
    "ax.set(xlabel=\"Frequency of Tokens (log scale)\")\n",
    "ax.set(ylabel=\"Number of Tokens (log scale)\")\n",
    "ax.grid()"
   ]
  },
  {
   "cell_type": "markdown",
   "id": "0e93928a-2da3-4dee-a823-ed0b5c7471ad",
   "metadata": {},
   "source": [
    "### Merging tokens with 85% similarity\n",
    "\n",
    "\n",
    "#### Read the unique tokens after merging"
   ]
  },
  {
   "cell_type": "code",
   "execution_count": null,
   "id": "da6425ed-54c6-4fe1-91e4-d77884ac062f",
   "metadata": {},
   "outputs": [],
   "source": [
    "with open(\"./../data/intermediate_steps/sim_score_85/cleaned_unique_tokens.json\", encoding=\"utf8\") as f:\n",
    "    unique_tokens_after_merge_sim85_with_count = json.load(f)\n",
    "    \n",
    "unique_tokens_after_merge_sim85 = unique_tokens_after_merge_sim85_with_count.keys()\n",
    "unique_tokens_after_merge_sim85_in_dict = [uniq_tok for uniq_tok in unique_tokens_after_merge_sim85 if uniq_tok in words_with_correct_spellings]\n",
    "num_of_unique_tokens_after_merge_sim85 = len(unique_tokens_after_merge_sim85)\n",
    "num_of_unique_tokens_after_merge_sim85_in_dict = len(unique_tokens_after_merge_sim85_in_dict)\n",
    "\n",
    "percent_in_dict = round(((num_of_unique_tokens_after_merge_sim85_in_dict/num_of_unique_tokens_after_merge_sim85)*100),2)\n",
    "\n",
    "print(\"Number of unique tokens that represent the professions after merginig with 85% similarity are {}, \\nand {} out of them are in the dictionary ({}%).\".format(\n",
    "    num_of_unique_tokens_after_merge_sim85, num_of_unique_tokens_after_merge_sim85_in_dict, percent_in_dict))"
   ]
  },
  {
   "cell_type": "markdown",
   "id": "5c8f6864-2575-433c-a492-584539a7f3b2",
   "metadata": {},
   "source": [
    "### Distribution of Frequency of Token Frequency"
   ]
  },
  {
   "cell_type": "code",
   "execution_count": null,
   "id": "3518a7ee-dcca-49df-ad3c-240cc3e2149d",
   "metadata": {},
   "outputs": [],
   "source": [
    "freq_of_token_freq_after_merge_sim85 = {}\n",
    "\n",
    "for token, count in unique_tokens_after_merge_sim85_with_count.items():\n",
    "    if not count in freq_of_token_freq_after_merge_sim85:\n",
    "        freq_of_token_freq_after_merge_sim85[count] = {\"no_of_tokens\": 0, \"in_dictionary\": 0, \"not_in_dictionary\":0}\n",
    "    freq_of_token_freq_after_merge_sim85[count][\"no_of_tokens\"] += 1\n",
    "    if token in words_with_correct_spellings:\n",
    "        freq_of_token_freq_after_merge_sim85[count][\"in_dictionary\"] += 1\n",
    "    else:\n",
    "        freq_of_token_freq_after_merge_sim85[count][\"not_in_dictionary\"] += 1\n",
    "    \n",
    "freq_of_token_freq_after_merge_sim85_df = pd.DataFrame.from_dict(freq_of_token_freq_after_merge_sim85,\n",
    "                                                  orient='index'\n",
    "                                                 ).sort_values(by=['no_of_tokens'], ascending=False\n",
    "                                                              ).rename_axis('token_frequency').reset_index()"
   ]
  },
  {
   "cell_type": "code",
   "execution_count": null,
   "id": "7d1f5cdb-ab52-4802-a66b-3d2d2566af21",
   "metadata": {},
   "outputs": [],
   "source": [
    "freq_of_token_freq_after_merge_sim85_df"
   ]
  },
  {
   "cell_type": "code",
   "execution_count": null,
   "id": "0df111b7-0464-40d4-bf7d-70daea4ae61b",
   "metadata": {},
   "outputs": [],
   "source": [
    "fig, ax = plt.subplots()\n",
    "# the size of A4 paper\n",
    "fig.set_size_inches(11.7, 8.27)\n",
    "\n",
    "sns.scatterplot(data=freq_of_token_freq_before_merge_df, x=\"token_frequency\", y=\"no_of_tokens\", label='before_merge', ax=ax)\n",
    "sns.scatterplot(data=freq_of_token_freq_after_merge_sim85_df, x=\"token_frequency\", y=\"no_of_tokens\", label='after_merge_sim85', ax=ax)\n",
    "\n",
    "ax.set(yscale='log')\n",
    "ax.set(xscale='log')\n",
    "ax.set(title=\"Comparision of distribution of token frequency before and after merge with 85% similarity threshold\")\n",
    "ax.set(xlabel=\"Frequency of Tokens (log scale)\")\n",
    "ax.set(ylabel=\"Number of Tokens (log scale)\")\n",
    "ax.grid()"
   ]
  },
  {
   "cell_type": "code",
   "execution_count": null,
   "id": "38d38df5-483e-4581-b3c9-41e51dd321f4",
   "metadata": {},
   "outputs": [],
   "source": [
    "fig, ax = plt.subplots()\n",
    "# the size of A4 paper\n",
    "fig.set_size_inches(11.7, 8.27)\n",
    "\n",
    "sns.lineplot(data=freq_of_token_freq_after_merge_sim85_df, x=\"token_frequency\", y=\"in_dictionary\", label='Has correct spelling', ax=ax)\n",
    "sns.lineplot(data=freq_of_token_freq_after_merge_sim85_df, x=\"token_frequency\", y=\"not_in_dictionary\", label='Not correctly Spelled', ax=ax)\n",
    "\n",
    "ax.set(yscale='log')\n",
    "ax.set(xscale='log')\n",
    "ax.set(title=\"Distribution of token spelling correctness after merge with 85 similarity threshold\")\n",
    "ax.set(xlabel=\"Frequency of Tokens (log scale)\")\n",
    "ax.set(ylabel=\"Number of Tokens (log scale)\")\n",
    "ax.grid()"
   ]
  },
  {
   "cell_type": "code",
   "execution_count": null,
   "id": "aa4a13ae-1815-452f-8be6-a9900a18bf1b",
   "metadata": {},
   "outputs": [],
   "source": [
    "# sns.lineplot(data=freq_of_token_freq_before_merge_df, x=\"token_frequency\", y=\"in_dictionary\", label='before_merge', ax=ax)\n",
    "# sns.lineplot(data=freq_of_token_freq_after_merge_sim75_df, x=\"token_frequency\", y=\"not_in_dictionary\", label='after_merge_sim75', ax=ax)\n",
    "\n",
    "fig, ax = plt.subplots()\n",
    "# the size of A4 paper\n",
    "fig.set_size_inches(11.7, 8.27)\n",
    "\n",
    "sns.lineplot(data=freq_of_token_freq_before_merge_df, x=\"token_frequency\", y=\"in_dictionary\", label='Has correct spelling before merge', ax=ax)\n",
    "sns.lineplot(data=freq_of_token_freq_before_merge_df, x=\"token_frequency\", y=\"not_in_dictionary\", label='Not correctly Spelled before merge', ax=ax)\n",
    "\n",
    "sns.lineplot(data=freq_of_token_freq_after_merge_sim85_df, x=\"token_frequency\", y=\"in_dictionary\", label='Has correct spelling after merge (85)', ax=ax)\n",
    "sns.lineplot(data=freq_of_token_freq_after_merge_sim85_df, x=\"token_frequency\", y=\"not_in_dictionary\", label='Not correctly Spelled (85)', ax=ax)\n",
    "\n",
    "ax.set(yscale='log')\n",
    "ax.set(xscale='log')\n",
    "ax.set(title=\"Comparision of token spelling correctness before and after merge with 85 similarity threshold\")\n",
    "ax.set(xlabel=\"Frequency of Tokens (log scale)\")\n",
    "ax.set(ylabel=\"Number of Tokens (log scale)\")\n",
    "ax.grid()"
   ]
  },
  {
   "cell_type": "code",
   "execution_count": null,
   "id": "03db1b76-b273-4f66-8c66-c07fc26ae3ea",
   "metadata": {},
   "outputs": [],
   "source": [
    "fig, ax = plt.subplots()\n",
    "# the size of A4 paper\n",
    "fig.set_size_inches(11.7, 8.27)\n",
    "\n",
    "sns.lineplot(data=freq_of_token_freq_before_merge_df, x=\"token_frequency\", y=\"in_dictionary\", label='Has correct spelling before merge', ax=ax)\n",
    "# sns.lineplot(data=freq_of_token_freq_before_merge_df, x=\"token_frequency\", y=\"not_in_dictionary\", label='Not correctly Spelled before merge', ax=ax)\n",
    "\n",
    "sns.lineplot(data=freq_of_token_freq_after_merge_sim85_df, x=\"token_frequency\", y=\"in_dictionary\", label='Has correct spelling after merge (85)', ax=ax)\n",
    "# sns.lineplot(data=freq_of_token_freq_after_merge_sim85_df, x=\"token_frequency\", y=\"not_in_dictionary\", label='Not correctly Spelled (85)', ax=ax)\n",
    "\n",
    "ax.set(yscale='log')\n",
    "ax.set(xscale='log')\n",
    "ax.set(title=\"Comparision of correctly spelled tokens before and after merge with 85 similarity threshold\")\n",
    "ax.set(xlabel=\"Frequency of Tokens (log scale)\")\n",
    "ax.set(ylabel=\"Number of Tokens (log scale)\")\n",
    "ax.grid()"
   ]
  },
  {
   "cell_type": "code",
   "execution_count": null,
   "id": "830d9ea5-c225-4a47-860d-b54412b7b297",
   "metadata": {},
   "outputs": [],
   "source": [
    "fig, ax = plt.subplots()\n",
    "# the size of A4 paper\n",
    "fig.set_size_inches(11.7, 8.27)\n",
    "\n",
    "# sns.lineplot(data=freq_of_token_freq_before_merge_df, x=\"token_frequency\", y=\"in_dictionary\", label='Has correct spelling before merge', ax=ax)\n",
    "sns.lineplot(data=freq_of_token_freq_before_merge_df, x=\"token_frequency\", y=\"not_in_dictionary\", label='Not correctly Spelled before merge', ax=ax)\n",
    "\n",
    "# sns.lineplot(data=freq_of_token_freq_after_merge_sim85_df, x=\"token_frequency\", y=\"in_dictionary\", label='Has correct spelling after merge (75)', ax=ax)\n",
    "sns.lineplot(data=freq_of_token_freq_after_merge_sim85_df, x=\"token_frequency\", y=\"not_in_dictionary\", label='Not correctly Spelled (85)', ax=ax)\n",
    "\n",
    "ax.set(yscale='log')\n",
    "ax.set(xscale='log')\n",
    "ax.set(title=\"Comparision of wrongly spelled tokens before and after merge with 85 similarity threshold\")\n",
    "ax.set(xlabel=\"Frequency of Tokens (log scale)\")\n",
    "ax.set(ylabel=\"Number of Tokens (log scale)\")\n",
    "ax.grid()"
   ]
  },
  {
   "cell_type": "markdown",
   "id": "c49b77e2-1707-4140-b756-c4206a0307fb",
   "metadata": {},
   "source": [
    "## Comparison before and After merge"
   ]
  },
  {
   "cell_type": "code",
   "execution_count": null,
   "id": "9833aafa-17b8-4274-a8d3-05f63bbee7eb",
   "metadata": {},
   "outputs": [],
   "source": [
    "fig, ax = plt.subplots()\n",
    "# the size of A4 paper\n",
    "fig.set_size_inches(11.7, 8.27)\n",
    "\n",
    "sns.scatterplot(data=freq_of_token_freq_before_merge_df, x=\"token_frequency\", y=\"no_of_tokens\", label='before_merge', ax=ax)\n",
    "sns.scatterplot(data=freq_of_token_freq_after_merge_sim75_df, x=\"token_frequency\", y=\"no_of_tokens\", label='after_merge_sim75', ax=ax)\n",
    "sns.scatterplot(data=freq_of_token_freq_after_merge_sim85_df, x=\"token_frequency\", y=\"no_of_tokens\", label='after_merge_sim85', ax=ax)\n",
    "\n",
    "ax.set(yscale='log')\n",
    "ax.set(xscale='log')\n",
    "ax.set(title=\"Comparision of distribution of token frequency before and after merge\")\n",
    "ax.set(xlabel=\"Frequency of Tokens (log scale)\")\n",
    "ax.set(ylabel=\"Number of Tokens (log scale)\")\n",
    "ax.grid()"
   ]
  },
  {
   "cell_type": "code",
   "execution_count": null,
   "id": "46f16935-7a9d-4824-bc89-491997d5e709",
   "metadata": {},
   "outputs": [],
   "source": [
    "fig, ax = plt.subplots()\n",
    "# the size of A4 paper\n",
    "fig.set_size_inches(11.7, 8.27)\n",
    "\n",
    "sns.lineplot(data=freq_of_token_freq_before_merge_df, x=\"token_frequency\", y=\"in_dictionary\", label='Has correct spelling before merge', ax=ax)\n",
    "sns.lineplot(data=freq_of_token_freq_before_merge_df, x=\"token_frequency\", y=\"not_in_dictionary\", label='Not correctly Spelled before merge', ax=ax)\n",
    "\n",
    "sns.lineplot(data=freq_of_token_freq_after_merge_sim75_df, x=\"token_frequency\", y=\"in_dictionary\", label='Has correct spelling after merge (75)', ax=ax)\n",
    "sns.lineplot(data=freq_of_token_freq_after_merge_sim75_df, x=\"token_frequency\", y=\"not_in_dictionary\", label='Not correctly Spelled (75)', ax=ax)\n",
    "\n",
    "sns.lineplot(data=freq_of_token_freq_after_merge_sim85_df, x=\"token_frequency\", y=\"in_dictionary\", label='Has correct spelling after merge (85)', ax=ax)\n",
    "sns.lineplot(data=freq_of_token_freq_after_merge_sim85_df, x=\"token_frequency\", y=\"not_in_dictionary\", label='Not correctly Spelled (85)', ax=ax)\n",
    "\n",
    "ax.set(yscale='log')\n",
    "ax.set(xscale='log')\n",
    "ax.set(title=\"Distribution of token spelling correctness before and after merge\")\n",
    "ax.set(xlabel=\"Frequency of Tokens (log scale)\")\n",
    "ax.set(ylabel=\"Number of Tokens (log scale)\")\n",
    "ax.grid()"
   ]
  },
  {
   "cell_type": "code",
   "execution_count": null,
   "id": "8de7ed9f-dcd5-4b63-8dd1-533044b5b0d9",
   "metadata": {},
   "outputs": [],
   "source": [
    "fig, ax = plt.subplots()\n",
    "# the size of A4 paper\n",
    "fig.set_size_inches(11.7, 8.27)\n",
    "\n",
    "sns.lineplot(data=freq_of_token_freq_before_merge_df, x=\"token_frequency\", y=\"in_dictionary\", label='Has correct spelling before merge', ax=ax)\n",
    "\n",
    "sns.lineplot(data=freq_of_token_freq_after_merge_sim85_df, x=\"token_frequency\", y=\"in_dictionary\", label='Has correct spelling after merge (85)', ax=ax)\n",
    "\n",
    "sns.lineplot(data=freq_of_token_freq_after_merge_sim75_df, x=\"token_frequency\", y=\"in_dictionary\", label='Has correct spelling after merge (75)', ax=ax)\n",
    "\n",
    "\n",
    "ax.set(yscale='log')\n",
    "ax.set(xscale='log')\n",
    "ax.set(title=\"Comparision of correctly spelled tokens before and after merge\")\n",
    "ax.set(xlabel=\"Frequency of Tokens (log scale)\")\n",
    "ax.set(ylabel=\"Number of Tokens (log scale)\")\n",
    "ax.grid()"
   ]
  },
  {
   "cell_type": "code",
   "execution_count": null,
   "id": "1adcf36d-5850-485f-9e37-710fa8ff1d8f",
   "metadata": {},
   "outputs": [],
   "source": [
    "fig, ax = plt.subplots()\n",
    "# the size of A4 paper\n",
    "fig.set_size_inches(11.7, 8.27)\n",
    "\n",
    "\n",
    "sns.lineplot(data=freq_of_token_freq_before_merge_df, x=\"token_frequency\", y=\"not_in_dictionary\", label='Not correctly Spelled before merge', ax=ax)\n",
    "\n",
    "sns.lineplot(data=freq_of_token_freq_after_merge_sim75_df, x=\"token_frequency\", y=\"not_in_dictionary\", label='Not correctly Spelled (75)', ax=ax)\n",
    "\n",
    "sns.lineplot(data=freq_of_token_freq_after_merge_sim85_df, x=\"token_frequency\", y=\"not_in_dictionary\", label='Not correctly Spelled (85)', ax=ax)\n",
    "\n",
    "ax.set(yscale='log')\n",
    "ax.set(xscale='log')\n",
    "ax.set(title=\"Comparision of wrongly spelled tokens before and after merge\")\n",
    "ax.set(xlabel=\"Frequency of Tokens (log scale)\")\n",
    "ax.set(ylabel=\"Number of Tokens (log scale)\")\n",
    "ax.grid()"
   ]
  },
  {
   "cell_type": "code",
   "execution_count": null,
   "id": "1aa5f00e-d435-44d9-a3c2-2e8415ddda9e",
   "metadata": {},
   "outputs": [],
   "source": [
    "fig, ax = plt.subplots()\n",
    "# the size of A4 paper\n",
    "fig.set_size_inches(11.7, 8.27)\n",
    "\n",
    "sns.lineplot(data=freq_of_token_freq_before_merge_df, x=\"token_frequency\", y=\"in_dictionary\", label='Has correct spelling before merge', ax=ax)\n",
    "sns.lineplot(data=freq_of_token_freq_before_merge_df, x=\"token_frequency\", y=\"not_in_dictionary\", label='Not correctly Spelled before merge', ax=ax)\n",
    "\n",
    "sns.lineplot(data=freq_of_token_freq_after_merge_sim75_df, x=\"token_frequency\", y=\"in_dictionary\", label='Has correct spelling after merge (75)', ax=ax)\n",
    "sns.lineplot(data=freq_of_token_freq_after_merge_sim75_df, x=\"token_frequency\", y=\"not_in_dictionary\", label='Not correctly Spelled (75)', ax=ax)\n",
    "\n",
    "sns.lineplot(data=freq_of_token_freq_after_merge_sim85_df, x=\"token_frequency\", y=\"in_dictionary\", label='Has correct spelling after merge (85)', ax=ax)\n",
    "sns.lineplot(data=freq_of_token_freq_after_merge_sim85_df, x=\"token_frequency\", y=\"not_in_dictionary\", label='Not correctly Spelled (85)', ax=ax)\n",
    "\n",
    "# ax.set(yscale='log')\n",
    "ax.set(xscale='log')\n",
    "ax.set(title=\"Comparision of token spelling correctness before and after merge\")\n",
    "ax.set(xlabel=\"Frequency of Tokens (log scale)\")\n",
    "ax.set(ylabel=\"Number of Tokens (log scale)\")\n",
    "ax.grid()"
   ]
  },
  {
   "cell_type": "code",
   "execution_count": null,
   "id": "8d083bb3-c2f7-42af-86ed-f63eb95fd93a",
   "metadata": {},
   "outputs": [],
   "source": [
    "fig, ax = plt.subplots()\n",
    "# the size of A4 paper\n",
    "fig.set_size_inches(11.7, 8.27)\n",
    "\n",
    "sns.lineplot(data=freq_of_token_freq_before_merge_df, x=\"token_frequency\", y=\"in_dictionary\", label='Has correct spelling before merge', ax=ax)\n",
    "\n",
    "sns.lineplot(data=freq_of_token_freq_after_merge_sim85_df, x=\"token_frequency\", y=\"in_dictionary\", label='Has correct spelling after merge (85)', ax=ax)\n",
    "\n",
    "sns.lineplot(data=freq_of_token_freq_after_merge_sim75_df, x=\"token_frequency\", y=\"in_dictionary\", label='Has correct spelling after merge (75)', ax=ax)\n",
    "\n",
    "\n",
    "# ax.set(yscale='log')\n",
    "ax.set(xscale='log')\n",
    "ax.set(title=\"Comparision of correctly spelled tokens before and after merge\")\n",
    "ax.set(xlabel=\"Frequency of Tokens (log scale)\")\n",
    "ax.set(ylabel=\"Number of Tokens (log scale)\")\n",
    "ax.grid()"
   ]
  },
  {
   "cell_type": "code",
   "execution_count": null,
   "id": "4c868516-544e-42f5-af0c-e009a7b16f64",
   "metadata": {},
   "outputs": [],
   "source": [
    "fig, ax = plt.subplots()\n",
    "# the size of A4 paper\n",
    "fig.set_size_inches(11.7, 8.27)\n",
    "\n",
    "\n",
    "sns.lineplot(data=freq_of_token_freq_before_merge_df, x=\"token_frequency\", y=\"not_in_dictionary\", label='Not correctly Spelled before merge', ax=ax)\n",
    "\n",
    "sns.lineplot(data=freq_of_token_freq_after_merge_sim75_df, x=\"token_frequency\", y=\"not_in_dictionary\", label='Not correctly Spelled (75)', ax=ax)\n",
    "\n",
    "sns.lineplot(data=freq_of_token_freq_after_merge_sim85_df, x=\"token_frequency\", y=\"not_in_dictionary\", label='Not correctly Spelled (85)', ax=ax)\n",
    "\n",
    "# ax.set(yscale='log')\n",
    "ax.set(xscale='log')\n",
    "ax.set(title=\"Comparision of wrongly spelled tokens before and after merge\")\n",
    "ax.set(xlabel=\"Frequency of Tokens (log scale)\")\n",
    "ax.set(ylabel=\"Number of Tokens (log scale)\")\n",
    "ax.grid()"
   ]
  },
  {
   "cell_type": "markdown",
   "id": "d8bac9c5-89af-4e41-948d-65c6af63fdb7",
   "metadata": {},
   "source": [
    "## Distriution of round wise similiarity scores during the merge\n",
    "\n",
    "During the each iteration of each round of the merge process the summary of distribution of the similarity scores is printed and also saved to a pickle file. Here the information is summarised.\n",
    "\n",
    "Read the replacement scores files. Each file is an array of array. The first level length of array corresponds to the number of iterations occured in the round and the second level length corresponds to number of unique merges occured during the iteration.\n",
    "\n",
    "### Merging with similarity score of 75"
   ]
  },
  {
   "cell_type": "code",
   "execution_count": null,
   "id": "a24b5f01-47f4-409a-aed0-443416fc2330",
   "metadata": {},
   "outputs": [],
   "source": [
    "round_wise_data = {1: {}, 2: {}, 3:{}}\n",
    "\n",
    "with open(\n",
    "    \"./../data/intermediate_steps/sim_score_75/replacement_scores_round_after_round_1.pickle\", \"rb\"\n",
    ") as outfile:\n",
    "    replacement_scores_round_after_round_1 = pickle.load(outfile)\n",
    "    \n",
    "for itr,merg_scr in enumerate(replacement_scores_round_after_round_1):\n",
    "    round_wise_data[1][itr+1] = {\"uniq_mergs\": len(merg_scr), \"average_merge_score\": np.mean(merg_scr), \"median_merge_score\": np.median(merg_scr)}\n",
    "    \n",
    "with open(\n",
    "    \"./../data/intermediate_steps/sim_score_75/replacement_scores_round_after_round_2.pickle\", \"rb\"\n",
    ") as outfile:\n",
    "    replacement_scores_round_after_round_2 = pickle.load(outfile)\n",
    "    \n",
    "for itr,merg_scr in enumerate(replacement_scores_round_after_round_2):\n",
    "    round_wise_data[2][itr+1] = {\"uniq_mergs\": len(merg_scr), \"average_merge_score\": np.mean(merg_scr), \"median_merge_score\": np.median(merg_scr)}\n",
    "    \n",
    "\n",
    "with open(\n",
    "    \"./../data/intermediate_steps/sim_score_75/replacement_scores_round_after_round_3.pickle\", \"rb\"\n",
    ") as outfile:\n",
    "    replacement_scores_round_after_round_3 = pickle.load(outfile)\n",
    "\n",
    "for itr,merg_scr in enumerate(replacement_scores_round_after_round_3):\n",
    "    round_wise_data[3][itr+1] = {\"uniq_mergs\": len(merg_scr), \"average_merge_score\": np.mean(merg_scr), \"median_merge_score\": np.median(merg_scr)}"
   ]
  },
  {
   "cell_type": "code",
   "execution_count": null,
   "id": "7fdf50c0-41ed-47f7-8e68-0595d8348744",
   "metadata": {},
   "outputs": [],
   "source": [
    "avg_sim_scr_per_itr = {}\n",
    "\n",
    "for round_num in range(1,4):\n",
    "    avg_sim_scr_per_itr[\"round_\" + str(round_num)] = {itr: info[\"average_merge_score\"] for itr, info in round_wise_data[round_num].items()}\n",
    "    \n",
    "median_sim_scr_per_itr = {}\n",
    "\n",
    "for round_num in range(1,4):\n",
    "    median_sim_scr_per_itr[\"round_\" + str(round_num)] = {itr: info[\"median_merge_score\"] for itr, info in round_wise_data[round_num].items()}\n",
    "    \n",
    "    \n",
    "unq_mergs_per_itr = {}\n",
    "\n",
    "for round_num in range(1,4):\n",
    "    unq_mergs_per_itr[\"round_\" + str(round_num)] = {itr: info[\"uniq_mergs\"] for itr, info in round_wise_data[round_num].items()}    "
   ]
  },
  {
   "cell_type": "code",
   "execution_count": null,
   "id": "1d3bf25b-8465-4516-86c5-da38c3a57cc7",
   "metadata": {},
   "outputs": [],
   "source": [
    "fig, ax = plt.subplots()\n",
    "fig.set_size_inches(11.7, 8.27)\n",
    "\n",
    "df_mrgs = pd.DataFrame(unq_mergs_per_itr)\n",
    "ax = df_mrgs.plot.line(title=\"Unique Merges per iteration (75)\", xlabel=\"Iteration\", ylabel=\"Number of unique merges\", ax=ax)\n",
    "ax.locator_params(integer=True)"
   ]
  },
  {
   "cell_type": "code",
   "execution_count": null,
   "id": "677420bd-64e7-465c-8991-ef3d8dff23c6",
   "metadata": {},
   "outputs": [],
   "source": [
    "fig, axes = plt.subplots(nrows=2, ncols=1)\n",
    "fig.set_size_inches(11.7, 8.27)\n",
    "\n",
    "df_avg_scr = pd.DataFrame(avg_sim_scr_per_itr)\n",
    "ax1 = df_avg_scr.plot.line(title=\"Average Similarity Score per iteration (75)\", xlabel=\"Iteration\", ylabel=\"average similarity score\", ax=axes[0])\n",
    "ax1.locator_params(integer=True)\n",
    "    \n",
    "df_median_scr = pd.DataFrame(median_sim_scr_per_itr)\n",
    "ax2 = df_median_scr.plot.line(title=\"Median Similarity Score per iteration (75)\", xlabel=\"Iteration\", ylabel=\"Median similarity score\", ax=axes[1])\n",
    "ax2.locator_params(integer=True)\n",
    "\n",
    "plt.tight_layout()"
   ]
  },
  {
   "cell_type": "markdown",
   "id": "ae4868b5-feff-4a64-bca0-ae24576e1611",
   "metadata": {},
   "source": [
    "### Merging with similarity score of 85"
   ]
  },
  {
   "cell_type": "code",
   "execution_count": null,
   "id": "894cc569-91eb-40cb-bda7-4d03405ab815",
   "metadata": {},
   "outputs": [],
   "source": [
    "round_wise_data = {1: {}, 2: {}, 3:{}}\n",
    "\n",
    "with open(\n",
    "    \"./../data/intermediate_steps/sim_score_85/replacement_scores_round_after_round_1.pickle\", \"rb\"\n",
    ") as outfile:\n",
    "    replacement_scores_round_after_round_1 = pickle.load(outfile)\n",
    "    \n",
    "for itr,merg_scr in enumerate(replacement_scores_round_after_round_1):\n",
    "    round_wise_data[1][itr+1] = {\"uniq_mergs\": len(merg_scr), \"average_merge_score\": np.mean(merg_scr), \"median_merge_score\": np.median(merg_scr)}\n",
    "    \n",
    "with open(\n",
    "    \"./../data/intermediate_steps/sim_score_85/replacement_scores_round_after_round_2.pickle\", \"rb\"\n",
    ") as outfile:\n",
    "    replacement_scores_round_after_round_2 = pickle.load(outfile)\n",
    "    \n",
    "for itr,merg_scr in enumerate(replacement_scores_round_after_round_2):\n",
    "    round_wise_data[2][itr+1] = {\"uniq_mergs\": len(merg_scr), \"average_merge_score\": np.mean(merg_scr), \"median_merge_score\": np.median(merg_scr)}\n",
    "    \n",
    "\n",
    "with open(\n",
    "    \"./../data/intermediate_steps/sim_score_85/replacement_scores_round_after_round_3.pickle\", \"rb\"\n",
    ") as outfile:\n",
    "    replacement_scores_round_after_round_3 = pickle.load(outfile)\n",
    "\n",
    "for itr,merg_scr in enumerate(replacement_scores_round_after_round_3):\n",
    "    round_wise_data[3][itr+1] = {\"uniq_mergs\": len(merg_scr), \"average_merge_score\": np.mean(merg_scr), \"median_merge_score\": np.median(merg_scr)}"
   ]
  },
  {
   "cell_type": "code",
   "execution_count": null,
   "id": "e146a039-6e2d-4d36-a24f-53a6f15e5098",
   "metadata": {},
   "outputs": [],
   "source": [
    "avg_sim_scr_per_itr = {}\n",
    "\n",
    "for round_num in range(1,4):\n",
    "    avg_sim_scr_per_itr[\"round_\" + str(round_num)] = {itr: info[\"average_merge_score\"] for itr, info in round_wise_data[round_num].items()}\n",
    "    \n",
    "median_sim_scr_per_itr = {}\n",
    "\n",
    "for round_num in range(1,4):\n",
    "    median_sim_scr_per_itr[\"round_\" + str(round_num)] = {itr: info[\"median_merge_score\"] for itr, info in round_wise_data[round_num].items()}\n",
    "    \n",
    "    \n",
    "unq_mergs_per_itr = {}\n",
    "\n",
    "for round_num in range(1,4):\n",
    "    unq_mergs_per_itr[\"round_\" + str(round_num)] = {itr: info[\"uniq_mergs\"] for itr, info in round_wise_data[round_num].items()}    "
   ]
  },
  {
   "cell_type": "code",
   "execution_count": null,
   "id": "6c97c5cb-ec19-411f-add1-1363145eda2a",
   "metadata": {},
   "outputs": [],
   "source": [
    "fig, ax = plt.subplots()\n",
    "fig.set_size_inches(11.7, 8.27)\n",
    "\n",
    "df_mrgs = pd.DataFrame(unq_mergs_per_itr)\n",
    "ax = df_mrgs.plot.line(title=\"Unique Merges per iteration (75)\", xlabel=\"Iteration\", ylabel=\"Number of unique merges\", ax=ax)\n",
    "ax.locator_params(integer=True)"
   ]
  },
  {
   "cell_type": "code",
   "execution_count": null,
   "id": "d0033544-e369-4acd-9ad6-8e5c8e06e1a9",
   "metadata": {},
   "outputs": [],
   "source": [
    "fig, axes = plt.subplots(nrows=2, ncols=1)\n",
    "fig.set_size_inches(11.7, 8.27)\n",
    "\n",
    "df_avg_scr = pd.DataFrame(avg_sim_scr_per_itr)\n",
    "ax1 = df_avg_scr.plot.line(title=\"Average Similarity Score per iteration (75)\", xlabel=\"Iteration\", ylabel=\"average similarity score\", ax=axes[0])\n",
    "ax1.locator_params(integer=True)\n",
    "    \n",
    "df_median_scr = pd.DataFrame(median_sim_scr_per_itr)\n",
    "ax2 = df_median_scr.plot.line(title=\"Median Similarity Score per iteration (75)\", xlabel=\"Iteration\", ylabel=\"Median similarity score\", ax=axes[1])\n",
    "ax2.locator_params(integer=True)\n",
    "\n",
    "plt.tight_layout()"
   ]
  }
 ],
 "metadata": {
  "kernelspec": {
   "display_name": "Python 3",
   "language": "python",
   "name": "python3"
  },
  "language_info": {
   "codemirror_mode": {
    "name": "ipython",
    "version": 3
   },
   "file_extension": ".py",
   "mimetype": "text/x-python",
   "name": "python",
   "nbconvert_exporter": "python",
   "pygments_lexer": "ipython3",
   "version": "3.6.13"
  }
 },
 "nbformat": 4,
 "nbformat_minor": 5
}
